{
 "cells": [
  {
   "cell_type": "markdown",
   "metadata": {},
   "source": [
    "# K-Fold Cross-Validation..."
   ]
  },
  {
   "cell_type": "markdown",
   "metadata": {},
   "source": [
    "### Python Library ..."
   ]
  },
  {
   "cell_type": "code",
   "execution_count": 1,
   "metadata": {},
   "outputs": [],
   "source": [
    "import pandas as pd\n",
    "import numpy as np\n",
    "from sklearn.model_selection import train_test_split\n",
    "from sklearn.preprocessing import MinMaxScaler\n",
    "import tensorflow as tf\n",
    "from tensorflow.keras.models import Sequential\n",
    "from tensorflow.keras.layers import GRU, Dense,Dropout\n",
    "from tensorflow.keras.optimizers import Adam,SGD\n",
    "from matplotlib import pyplot as plt\n",
    "from imblearn.over_sampling import SMOTE"
   ]
  },
  {
   "cell_type": "markdown",
   "metadata": {},
   "source": [
    "### Load All The Data...."
   ]
  },
  {
   "cell_type": "code",
   "execution_count": 2,
   "metadata": {},
   "outputs": [],
   "source": [
    "# Load the data\n",
    "file_path = 'All_Data.xlsx'  # Replace with your file path\n",
    "data_01 = pd.read_excel(file_path)"
   ]
  },
  {
   "cell_type": "markdown",
   "metadata": {},
   "source": [
    "### Creating Synthetic Data ...."
   ]
  },
  {
   "cell_type": "code",
   "execution_count": 3,
   "metadata": {},
   "outputs": [],
   "source": [
    "import numpy as np\n",
    "from sklearn.neighbors import NearestNeighbors\n",
    "\n",
    "# Original dataset (features only)\n",
    "# X = np.array([[1, 2], [2, 3], [3, 4], [5, 6]])\n",
    "Data = data_01.loc[:, 'Average ROM Angle':90].values \n",
    "\n",
    "# Number of synthetic samples to generate\n",
    "num_synthetic_samples = 100\n",
    "\n",
    "# Fit KNN to find nearest neighbours\n",
    "knn = NearestNeighbors(n_neighbors=2)  # Use 2 neighbours for simplicity\n",
    "knn.fit(Data)\n",
    "\n",
    "# Generate synthetic samples\n",
    "synthetic_samples = []\n",
    "for _ in range(num_synthetic_samples):\n",
    "    # Randomly pick a data point from X\n",
    "    idx = np.random.randint(0, Data.shape[0])\n",
    "    point = Data[idx]\n",
    "\n",
    "    # Find neighbours of the point\n",
    "    neighbours = knn.kneighbors([point], return_distance=False)[0]\n",
    "    \n",
    "    # Randomly choose one neighbour\n",
    "    neighbour = Data[neighbours[np.random.randint(1, len(neighbours))]]  # Skip self (idx=0)\n",
    "    \n",
    "    # Interpolate between the point and the neighbour\n",
    "    alpha = np.random.uniform(0, 1)  # Random weight for interpolation\n",
    "    synthetic_point = (point + alpha * (neighbour - point))\n",
    "    \n",
    "    synthetic_samples.append(synthetic_point)\n",
    "\n",
    "# Combine original and synthetic samples\n",
    "synthetic_samples = np.array(synthetic_samples)\n",
    "augmented_dataset = np.vstack([Data, synthetic_samples])\n",
    "\n",
    "data = pd.DataFrame(augmented_dataset)\n",
    "# data.head()"
   ]
  },
  {
   "cell_type": "markdown",
   "metadata": {},
   "source": [
    "### Extract EEG features and target..."
   ]
  },
  {
   "cell_type": "code",
   "execution_count": 4,
   "metadata": {},
   "outputs": [
    {
     "name": "stdout",
     "output_type": "stream",
     "text": [
      "Max ROM Angle: 155.0, Min ROM Angle: 105.0\n"
     ]
    }
   ],
   "source": [
    "# Extract EEG features and target\n",
    "X = data.loc[:, 1:181].values  # EEG data (columns D to MI) iloc[:,3:]\n",
    "y = data.loc[:, 0].values  # Target ROM angle (column C)\n",
    "max_rom = y.max()\n",
    "min_rom = y.min()\n",
    "# Check for extreme values in target\n",
    "print(f\"Max ROM Angle: {max_rom}, Min ROM Angle: {min_rom}\")\n",
    "\n",
    "# Normalise the target variable\n",
    "y = (y - min_rom) / (max_rom - min_rom)\n"
   ]
  },
  {
   "cell_type": "markdown",
   "metadata": {},
   "source": [
    "### Normalise the features..."
   ]
  },
  {
   "cell_type": "code",
   "execution_count": 5,
   "metadata": {},
   "outputs": [],
   "source": [
    "# Normalise the features\n",
    "scaler = MinMaxScaler()\n",
    "X_normalised = scaler.fit_transform(X)\n",
    "\n",
    "# Reshape X for GRU (samples, timesteps, features)\n",
    "n_features = X_normalised.shape[1]\n",
    "X_reshaped = X_normalised.reshape(X_normalised.shape[0], 1, n_features)"
   ]
  },
  {
   "cell_type": "code",
   "execution_count": 6,
   "metadata": {},
   "outputs": [
    {
     "name": "stdout",
     "output_type": "stream",
     "text": [
      "(127, 181)\n"
     ]
    }
   ],
   "source": [
    "reshaped_array = X_reshaped.squeeze(axis=1)  # Remove the second dimension\n",
    "print(reshaped_array.shape)"
   ]
  },
  {
   "cell_type": "code",
   "execution_count": 7,
   "metadata": {},
   "outputs": [
    {
     "data": {
      "text/plain": [
       "array([[0.96870379, 0.92956243, 0.93430456, ..., 1.        , 1.        ,\n",
       "        1.        ],\n",
       "       [1.        , 1.        , 1.        , ..., 0.        , 0.        ,\n",
       "        0.        ],\n",
       "       [0.34401183, 0.03094984, 0.        , ..., 0.07936508, 0.07277167,\n",
       "        0.02661783],\n",
       "       ...,\n",
       "       [0.57891363, 0.5418544 , 0.38562723, ..., 0.27525091, 0.27088822,\n",
       "        0.26612368],\n",
       "       [0.3674107 , 0.30414019, 0.27093747, ..., 0.        , 0.        ,\n",
       "        0.        ],\n",
       "       [0.25911364, 0.22050788, 0.21840768, ..., 0.02811203, 0.03211936,\n",
       "        0.03515522]])"
      ]
     },
     "execution_count": 7,
     "metadata": {},
     "output_type": "execute_result"
    }
   ],
   "source": [
    "reshaped_array"
   ]
  },
  {
   "cell_type": "markdown",
   "metadata": {},
   "source": [
    "### Split data into training and testing sets ..."
   ]
  },
  {
   "cell_type": "code",
   "execution_count": 8,
   "metadata": {},
   "outputs": [],
   "source": [
    "# Split data into training and testing sets\n",
    "X_train, X_test, y_train, y_test = train_test_split(X_reshaped, y, test_size=0.1)"
   ]
  },
  {
   "cell_type": "code",
   "execution_count": 9,
   "metadata": {},
   "outputs": [
    {
     "name": "stdout",
     "output_type": "stream",
     "text": [
      "[[0.5744209  0.58057631 0.53545904 ... 0.56434676 0.55848596 0.58217338]\n",
      " [0.28912903 0.62853852 0.63077364 ... 0.         0.         0.        ]\n",
      " [0.76193493 0.74893486 0.78870141 ... 0.62869958 0.62762527 0.6378476 ]\n",
      " ...\n",
      " [0.22577671 0.16723609 0.14957408 ... 0.         0.         0.        ]\n",
      " [0.22399174 0.1663633  0.14904421 ... 0.         0.         0.        ]\n",
      " [0.23100459 0.17803939 0.16264516 ... 0.         0.         0.        ]]\n"
     ]
    }
   ],
   "source": [
    "import numpy as np\n",
    "\n",
    "# Reshape to 2D\n",
    "X_X = X_train.squeeze(axis=1)\n",
    "X_Xtest = X_test.squeeze(axis=1)\n",
    "\n",
    "print(X_X)"
   ]
  },
  {
   "cell_type": "code",
   "execution_count": 10,
   "metadata": {},
   "outputs": [],
   "source": [
    "# Function for invers metrixes...\n",
    "def invers_prediction(predic):\n",
    "    prz = predic\n",
    "    Predictions = []\n",
    "    for i in range(prz.shape[0]):\n",
    "        pred = prz[i]*(max_rom-min_rom) + min_rom\n",
    "        Predictions.append(pred)\n",
    "\n",
    "    return Predictions"
   ]
  },
  {
   "cell_type": "markdown",
   "metadata": {},
   "source": [
    "## KNN Model..."
   ]
  },
  {
   "cell_type": "code",
   "execution_count": 46,
   "metadata": {},
   "outputs": [
    {
     "name": "stdout",
     "output_type": "stream",
     "text": [
      "Average R2 : 0.948014\n",
      "Average MSE : 7.760204\n",
      "Average MAE : 1.381786\n",
      "Average RMSE : 2.006526\n"
     ]
    }
   ],
   "source": [
    "from sklearn.model_selection import KFold\n",
    "from sklearn.neighbors import KNeighborsRegressor\n",
    "from sklearn.metrics import r2_score, mean_squared_error, mean_absolute_error\n",
    "\n",
    "# Define k-fold cross-validation\n",
    "kf = KFold(n_splits=10)\n",
    "\n",
    "# Initialise model\n",
    "model = KNeighborsRegressor(n_neighbors=1)\n",
    "\n",
    "# Perform k-fold\n",
    "R2z = []\n",
    "MSEz = []\n",
    "MAEz = []\n",
    "RMSEz = []\n",
    "\n",
    "for train_index, test_index in kf.split(X):\n",
    "    X_train, X_test = X[train_index], X[test_index]\n",
    "    y_train, y_test = y[train_index], y[test_index]\n",
    "    \n",
    "    # Train and evaluate\n",
    "    model.fit(X_train, y_train)\n",
    "    predictions_knn = model.predict(X_test)\n",
    "\n",
    "    inv_pred_knn = invers_prediction(predictions_knn )\n",
    "    inver_y_test = invers_prediction(y_test)\n",
    "\n",
    "    r2 = r2_score(inver_y_test,inv_pred_knn)\n",
    "    mae = mean_absolute_error(inver_y_test,inv_pred_knn)\n",
    "    mse = mean_squared_error(inver_y_test,inv_pred_knn)\n",
    "    rmse = np.sqrt(mse)\n",
    "\n",
    "    R2z.append(r2)\n",
    "    MSEz.append(mse)\n",
    "    MAEz.append(mae)\n",
    "    RMSEz.append(rmse)\n",
    "\n",
    "# print(R2z)\n",
    "# print(MSEz)\n",
    "# print(MAEz)\n",
    "# print(RMSEz)\n",
    "# print(\" \\n\")\n",
    "\n",
    "# Average accuracy\n",
    "print(f\"Average R2 : {sum(R2z) / len(R2z):.6f}\")\n",
    "print(f\"Average MSE : {sum(MSEz) / len(MSEz):.6f}\")\n",
    "print(f\"Average MAE : {sum(MAEz) / len(MAEz):.6f}\")\n",
    "print(f\"Average RMSE : {sum(RMSEz) / len(RMSEz):.6f}\")"
   ]
  },
  {
   "cell_type": "markdown",
   "metadata": {},
   "source": [
    "### Results Table..."
   ]
  },
  {
   "cell_type": "code",
   "execution_count": 47,
   "metadata": {},
   "outputs": [
    {
     "data": {
      "text/html": [
       "<div>\n",
       "<style scoped>\n",
       "    .dataframe tbody tr th:only-of-type {\n",
       "        vertical-align: middle;\n",
       "    }\n",
       "\n",
       "    .dataframe tbody tr th {\n",
       "        vertical-align: top;\n",
       "    }\n",
       "\n",
       "    .dataframe thead th {\n",
       "        text-align: right;\n",
       "    }\n",
       "</style>\n",
       "<table border=\"1\" class=\"dataframe\">\n",
       "  <thead>\n",
       "    <tr style=\"text-align: right;\">\n",
       "      <th></th>\n",
       "      <th>R2</th>\n",
       "      <th>MSE</th>\n",
       "      <th>MAE</th>\n",
       "      <th>RMSE</th>\n",
       "    </tr>\n",
       "  </thead>\n",
       "  <tbody>\n",
       "    <tr>\n",
       "      <th>0</th>\n",
       "      <td>0.693911</td>\n",
       "      <td>59.129093</td>\n",
       "      <td>4.430968</td>\n",
       "      <td>7.689544</td>\n",
       "    </tr>\n",
       "    <tr>\n",
       "      <th>1</th>\n",
       "      <td>0.923459</td>\n",
       "      <td>3.569030</td>\n",
       "      <td>1.501328</td>\n",
       "      <td>1.889188</td>\n",
       "    </tr>\n",
       "    <tr>\n",
       "      <th>2</th>\n",
       "      <td>0.979217</td>\n",
       "      <td>0.979315</td>\n",
       "      <td>0.801429</td>\n",
       "      <td>0.989604</td>\n",
       "    </tr>\n",
       "    <tr>\n",
       "      <th>3</th>\n",
       "      <td>0.980338</td>\n",
       "      <td>2.582316</td>\n",
       "      <td>1.138268</td>\n",
       "      <td>1.606959</td>\n",
       "    </tr>\n",
       "    <tr>\n",
       "      <th>4</th>\n",
       "      <td>0.994687</td>\n",
       "      <td>0.605803</td>\n",
       "      <td>0.558870</td>\n",
       "      <td>0.778334</td>\n",
       "    </tr>\n",
       "    <tr>\n",
       "      <th>5</th>\n",
       "      <td>0.969648</td>\n",
       "      <td>3.346397</td>\n",
       "      <td>1.352539</td>\n",
       "      <td>1.829316</td>\n",
       "    </tr>\n",
       "    <tr>\n",
       "      <th>6</th>\n",
       "      <td>0.987076</td>\n",
       "      <td>1.094700</td>\n",
       "      <td>0.728928</td>\n",
       "      <td>1.046279</td>\n",
       "    </tr>\n",
       "    <tr>\n",
       "      <th>7</th>\n",
       "      <td>0.988542</td>\n",
       "      <td>1.028425</td>\n",
       "      <td>0.743954</td>\n",
       "      <td>1.014113</td>\n",
       "    </tr>\n",
       "    <tr>\n",
       "      <th>8</th>\n",
       "      <td>0.987118</td>\n",
       "      <td>2.003031</td>\n",
       "      <td>1.216768</td>\n",
       "      <td>1.415285</td>\n",
       "    </tr>\n",
       "    <tr>\n",
       "      <th>9</th>\n",
       "      <td>0.976144</td>\n",
       "      <td>3.263933</td>\n",
       "      <td>1.344803</td>\n",
       "      <td>1.806636</td>\n",
       "    </tr>\n",
       "  </tbody>\n",
       "</table>\n",
       "</div>"
      ],
      "text/plain": [
       "         R2        MSE       MAE      RMSE\n",
       "0  0.693911  59.129093  4.430968  7.689544\n",
       "1  0.923459   3.569030  1.501328  1.889188\n",
       "2  0.979217   0.979315  0.801429  0.989604\n",
       "3  0.980338   2.582316  1.138268  1.606959\n",
       "4  0.994687   0.605803  0.558870  0.778334\n",
       "5  0.969648   3.346397  1.352539  1.829316\n",
       "6  0.987076   1.094700  0.728928  1.046279\n",
       "7  0.988542   1.028425  0.743954  1.014113\n",
       "8  0.987118   2.003031  1.216768  1.415285\n",
       "9  0.976144   3.263933  1.344803  1.806636"
      ]
     },
     "execution_count": 47,
     "metadata": {},
     "output_type": "execute_result"
    }
   ],
   "source": [
    "pd_result_table_knn = pd.DataFrame(data = [R2z,MSEz,MAEz,RMSEz], index = [\"R2\",\"MSE\",\"MAE\",\"RMSE\"])\n",
    "transposed_table_knn = pd_result_table_knn.transpose()\n",
    "transposed_table_knn"
   ]
  },
  {
   "cell_type": "markdown",
   "metadata": {},
   "source": [
    "## \tSupport Vector Regression "
   ]
  },
  {
   "cell_type": "code",
   "execution_count": 48,
   "metadata": {},
   "outputs": [
    {
     "name": "stdout",
     "output_type": "stream",
     "text": [
      "Average R2 : 0.803696\n",
      "Average MSE : 18.509195\n",
      "Average MAE : 3.389419\n",
      "Average RMSE : 3.995176\n"
     ]
    }
   ],
   "source": [
    "from sklearn.model_selection import KFold\n",
    "from sklearn.svm import SVR\n",
    "from sklearn.metrics import r2_score, mean_squared_error, mean_absolute_error\n",
    "\n",
    "# Define k-fold cross-validation\n",
    "kf = KFold(n_splits=10)\n",
    "\n",
    "# Initialise model\n",
    "model = SVR(kernel='rbf', C=1.0, epsilon=0.1)\n",
    "\n",
    "# Perform k-fold\n",
    "R2z = []\n",
    "MSEz = []\n",
    "MAEz = []\n",
    "RMSEz = []\n",
    "\n",
    "for train_index, test_index in kf.split(X):\n",
    "    X_train, X_test = X[train_index], X[test_index]\n",
    "    y_train, y_test = y[train_index], y[test_index]\n",
    "    \n",
    "    # Train and evaluate\n",
    "    model.fit(X_train, y_train)\n",
    "    predictions_svr = model.predict(X_test)\n",
    "\n",
    "    inv_pred_svr = invers_prediction(predictions_svr)\n",
    "    inver_y_test = invers_prediction(y_test)\n",
    "\n",
    "    r2 = r2_score(inver_y_test,inv_pred_svr)\n",
    "    mae = mean_absolute_error(inver_y_test,inv_pred_svr)\n",
    "    mse = mean_squared_error(inver_y_test,inv_pred_svr)\n",
    "    rmse = np.sqrt(mse)\n",
    "\n",
    "    R2z.append(r2)\n",
    "    MSEz.append(mse)\n",
    "    MAEz.append(mae)\n",
    "    RMSEz.append(rmse)\n",
    "\n",
    "# print(R2z)\n",
    "# print(MSEz)\n",
    "# print(MAEz)\n",
    "# print(RMSEz)\n",
    "# print(\" \\n\")\n",
    "\n",
    "# Average accuracy\n",
    "print(f\"Average R2 : {sum(R2z) / len(R2z):.6f}\")\n",
    "print(f\"Average MSE : {sum(MSEz) / len(MSEz):.6f}\")\n",
    "print(f\"Average MAE : {sum(MAEz) / len(MAEz):.6f}\")\n",
    "print(f\"Average RMSE : {sum(RMSEz) / len(RMSEz):.6f}\")"
   ]
  },
  {
   "cell_type": "code",
   "execution_count": 49,
   "metadata": {},
   "outputs": [
    {
     "data": {
      "text/html": [
       "<div>\n",
       "<style scoped>\n",
       "    .dataframe tbody tr th:only-of-type {\n",
       "        vertical-align: middle;\n",
       "    }\n",
       "\n",
       "    .dataframe tbody tr th {\n",
       "        vertical-align: top;\n",
       "    }\n",
       "\n",
       "    .dataframe thead th {\n",
       "        text-align: right;\n",
       "    }\n",
       "</style>\n",
       "<table border=\"1\" class=\"dataframe\">\n",
       "  <thead>\n",
       "    <tr style=\"text-align: right;\">\n",
       "      <th></th>\n",
       "      <th>R2</th>\n",
       "      <th>MSE</th>\n",
       "      <th>MAE</th>\n",
       "      <th>RMSE</th>\n",
       "    </tr>\n",
       "  </thead>\n",
       "  <tbody>\n",
       "    <tr>\n",
       "      <th>0</th>\n",
       "      <td>0.656371</td>\n",
       "      <td>66.381072</td>\n",
       "      <td>6.840942</td>\n",
       "      <td>8.147458</td>\n",
       "    </tr>\n",
       "    <tr>\n",
       "      <th>1</th>\n",
       "      <td>0.313708</td>\n",
       "      <td>32.001188</td>\n",
       "      <td>5.052802</td>\n",
       "      <td>5.656959</td>\n",
       "    </tr>\n",
       "    <tr>\n",
       "      <th>2</th>\n",
       "      <td>0.685755</td>\n",
       "      <td>14.807428</td>\n",
       "      <td>3.424892</td>\n",
       "      <td>3.848042</td>\n",
       "    </tr>\n",
       "    <tr>\n",
       "      <th>3</th>\n",
       "      <td>0.942447</td>\n",
       "      <td>7.558939</td>\n",
       "      <td>1.945472</td>\n",
       "      <td>2.749352</td>\n",
       "    </tr>\n",
       "    <tr>\n",
       "      <th>4</th>\n",
       "      <td>0.899167</td>\n",
       "      <td>11.497509</td>\n",
       "      <td>2.797446</td>\n",
       "      <td>3.390798</td>\n",
       "    </tr>\n",
       "    <tr>\n",
       "      <th>5</th>\n",
       "      <td>0.913922</td>\n",
       "      <td>9.490316</td>\n",
       "      <td>2.573259</td>\n",
       "      <td>3.080636</td>\n",
       "    </tr>\n",
       "    <tr>\n",
       "      <th>6</th>\n",
       "      <td>0.905561</td>\n",
       "      <td>7.999321</td>\n",
       "      <td>2.096159</td>\n",
       "      <td>2.828307</td>\n",
       "    </tr>\n",
       "    <tr>\n",
       "      <th>7</th>\n",
       "      <td>0.903377</td>\n",
       "      <td>8.672771</td>\n",
       "      <td>2.515685</td>\n",
       "      <td>2.944957</td>\n",
       "    </tr>\n",
       "    <tr>\n",
       "      <th>8</th>\n",
       "      <td>0.914370</td>\n",
       "      <td>13.314672</td>\n",
       "      <td>3.272796</td>\n",
       "      <td>3.648928</td>\n",
       "    </tr>\n",
       "    <tr>\n",
       "      <th>9</th>\n",
       "      <td>0.902287</td>\n",
       "      <td>13.368730</td>\n",
       "      <td>3.374741</td>\n",
       "      <td>3.656327</td>\n",
       "    </tr>\n",
       "  </tbody>\n",
       "</table>\n",
       "</div>"
      ],
      "text/plain": [
       "         R2        MSE       MAE      RMSE\n",
       "0  0.656371  66.381072  6.840942  8.147458\n",
       "1  0.313708  32.001188  5.052802  5.656959\n",
       "2  0.685755  14.807428  3.424892  3.848042\n",
       "3  0.942447   7.558939  1.945472  2.749352\n",
       "4  0.899167  11.497509  2.797446  3.390798\n",
       "5  0.913922   9.490316  2.573259  3.080636\n",
       "6  0.905561   7.999321  2.096159  2.828307\n",
       "7  0.903377   8.672771  2.515685  2.944957\n",
       "8  0.914370  13.314672  3.272796  3.648928\n",
       "9  0.902287  13.368730  3.374741  3.656327"
      ]
     },
     "execution_count": 49,
     "metadata": {},
     "output_type": "execute_result"
    }
   ],
   "source": [
    "pd_result_table_svr = pd.DataFrame(data = [R2z,MSEz,MAEz,RMSEz], index = [\"R2\",\"MSE\",\"MAE\",\"RMSE\"])\n",
    "transposed_table_svr = pd_result_table_svr.transpose()\n",
    "transposed_table_svr"
   ]
  },
  {
   "cell_type": "markdown",
   "metadata": {},
   "source": [
    "## Random Forest Regressor Model..."
   ]
  },
  {
   "cell_type": "code",
   "execution_count": 11,
   "metadata": {},
   "outputs": [
    {
     "name": "stdout",
     "output_type": "stream",
     "text": [
      "Average R2 : 0.901105\n",
      "Average MSE : 8.388585\n",
      "Average MAE : 1.847534\n",
      "Average RMSE : 2.487754\n"
     ]
    }
   ],
   "source": [
    "from sklearn.model_selection import KFold\n",
    "from sklearn.ensemble import RandomForestRegressor\n",
    "from sklearn.metrics import r2_score, mean_squared_error, mean_absolute_error\n",
    "\n",
    "# Define k-fold cross-validation\n",
    "kf = KFold(n_splits=10)\n",
    "\n",
    "# Initialise model\n",
    "model = RandomForestRegressor(n_estimators=100, random_state=42)\n",
    "\n",
    "# Perform k-fold\n",
    "R2z = []\n",
    "MSEz = []\n",
    "MAEz = []\n",
    "RMSEz = []\n",
    "\n",
    "for train_index, test_index in kf.split(X):\n",
    "    X_train, X_test = X[train_index], X[test_index]\n",
    "    y_train, y_test = y[train_index], y[test_index]\n",
    "    \n",
    "    # Train and evaluate\n",
    "    model.fit(X_train, y_train)\n",
    "    predictions_rfr = model.predict(X_test)\n",
    "\n",
    "    inv_pred_rfr = invers_prediction(predictions_rfr)\n",
    "    inver_y_test = invers_prediction(y_test)\n",
    "\n",
    "    r2 = r2_score(inver_y_test,inv_pred_rfr)\n",
    "    mae = mean_absolute_error(inver_y_test,inv_pred_rfr)\n",
    "    mse = mean_squared_error(inver_y_test,inv_pred_rfr)\n",
    "    rmse = np.sqrt(mse)\n",
    "\n",
    "    R2z.append(r2)\n",
    "    MSEz.append(mse)\n",
    "    MAEz.append(mae)\n",
    "    RMSEz.append(rmse)\n",
    "\n",
    "# print(R2z)\n",
    "# print(MSEz)\n",
    "# print(MAEz)\n",
    "# print(RMSEz)\n",
    "# print(\" \\n\")\n",
    "\n",
    "# Average accuracy\n",
    "print(f\"Average R2 : {sum(R2z) / len(R2z):.6f}\")\n",
    "print(f\"Average MSE : {sum(MSEz) / len(MSEz):.6f}\")\n",
    "print(f\"Average MAE : {sum(MAEz) / len(MAEz):.6f}\")\n",
    "print(f\"Average RMSE : {sum(RMSEz) / len(RMSEz):.6f}\")"
   ]
  },
  {
   "cell_type": "code",
   "execution_count": 12,
   "metadata": {},
   "outputs": [
    {
     "data": {
      "text/html": [
       "<div>\n",
       "<style scoped>\n",
       "    .dataframe tbody tr th:only-of-type {\n",
       "        vertical-align: middle;\n",
       "    }\n",
       "\n",
       "    .dataframe tbody tr th {\n",
       "        vertical-align: top;\n",
       "    }\n",
       "\n",
       "    .dataframe thead th {\n",
       "        text-align: right;\n",
       "    }\n",
       "</style>\n",
       "<table border=\"1\" class=\"dataframe\">\n",
       "  <thead>\n",
       "    <tr style=\"text-align: right;\">\n",
       "      <th></th>\n",
       "      <th>R2</th>\n",
       "      <th>MSE</th>\n",
       "      <th>MAE</th>\n",
       "      <th>RMSE</th>\n",
       "    </tr>\n",
       "  </thead>\n",
       "  <tbody>\n",
       "    <tr>\n",
       "      <th>0</th>\n",
       "      <td>0.823812</td>\n",
       "      <td>34.035417</td>\n",
       "      <td>4.658643</td>\n",
       "      <td>5.833988</td>\n",
       "    </tr>\n",
       "    <tr>\n",
       "      <th>1</th>\n",
       "      <td>0.697794</td>\n",
       "      <td>14.091627</td>\n",
       "      <td>2.840062</td>\n",
       "      <td>3.753882</td>\n",
       "    </tr>\n",
       "    <tr>\n",
       "      <th>2</th>\n",
       "      <td>0.971930</td>\n",
       "      <td>1.742091</td>\n",
       "      <td>0.913886</td>\n",
       "      <td>1.319883</td>\n",
       "    </tr>\n",
       "    <tr>\n",
       "      <th>3</th>\n",
       "      <td>0.943781</td>\n",
       "      <td>4.190285</td>\n",
       "      <td>1.382041</td>\n",
       "      <td>2.047018</td>\n",
       "    </tr>\n",
       "    <tr>\n",
       "      <th>4</th>\n",
       "      <td>0.948241</td>\n",
       "      <td>3.883101</td>\n",
       "      <td>1.321665</td>\n",
       "      <td>1.970558</td>\n",
       "    </tr>\n",
       "    <tr>\n",
       "      <th>5</th>\n",
       "      <td>0.893160</td>\n",
       "      <td>4.867509</td>\n",
       "      <td>1.611156</td>\n",
       "      <td>2.206243</td>\n",
       "    </tr>\n",
       "    <tr>\n",
       "      <th>6</th>\n",
       "      <td>0.991379</td>\n",
       "      <td>1.426605</td>\n",
       "      <td>0.818089</td>\n",
       "      <td>1.194406</td>\n",
       "    </tr>\n",
       "    <tr>\n",
       "      <th>7</th>\n",
       "      <td>0.767034</td>\n",
       "      <td>16.429321</td>\n",
       "      <td>3.215079</td>\n",
       "      <td>4.053310</td>\n",
       "    </tr>\n",
       "    <tr>\n",
       "      <th>8</th>\n",
       "      <td>0.986421</td>\n",
       "      <td>1.053367</td>\n",
       "      <td>0.700370</td>\n",
       "      <td>1.026337</td>\n",
       "    </tr>\n",
       "    <tr>\n",
       "      <th>9</th>\n",
       "      <td>0.987504</td>\n",
       "      <td>2.166532</td>\n",
       "      <td>1.014344</td>\n",
       "      <td>1.471915</td>\n",
       "    </tr>\n",
       "  </tbody>\n",
       "</table>\n",
       "</div>"
      ],
      "text/plain": [
       "         R2        MSE       MAE      RMSE\n",
       "0  0.823812  34.035417  4.658643  5.833988\n",
       "1  0.697794  14.091627  2.840062  3.753882\n",
       "2  0.971930   1.742091  0.913886  1.319883\n",
       "3  0.943781   4.190285  1.382041  2.047018\n",
       "4  0.948241   3.883101  1.321665  1.970558\n",
       "5  0.893160   4.867509  1.611156  2.206243\n",
       "6  0.991379   1.426605  0.818089  1.194406\n",
       "7  0.767034  16.429321  3.215079  4.053310\n",
       "8  0.986421   1.053367  0.700370  1.026337\n",
       "9  0.987504   2.166532  1.014344  1.471915"
      ]
     },
     "execution_count": 12,
     "metadata": {},
     "output_type": "execute_result"
    }
   ],
   "source": [
    "pd_result_table_rfr = pd.DataFrame(data = [R2z,MSEz,MAEz,RMSEz], index = [\"R2\",\"MSE\",\"MAE\",\"RMSE\"])\n",
    "transposed_table_rfr = pd_result_table_rfr.transpose()\n",
    "transposed_table_rfr"
   ]
  }
 ],
 "metadata": {
  "kernelspec": {
   "display_name": "Python 3.9.5 64-bit",
   "language": "python",
   "name": "python3"
  },
  "language_info": {
   "codemirror_mode": {
    "name": "ipython",
    "version": 3
   },
   "file_extension": ".py",
   "mimetype": "text/x-python",
   "name": "python",
   "nbconvert_exporter": "python",
   "pygments_lexer": "ipython3",
   "version": "3.9.5"
  },
  "orig_nbformat": 4,
  "vscode": {
   "interpreter": {
    "hash": "f6246b25e200e4c5124e3e61789ac81350562f0761bbcf92ad9e48654207659c"
   }
  }
 },
 "nbformat": 4,
 "nbformat_minor": 2
}
