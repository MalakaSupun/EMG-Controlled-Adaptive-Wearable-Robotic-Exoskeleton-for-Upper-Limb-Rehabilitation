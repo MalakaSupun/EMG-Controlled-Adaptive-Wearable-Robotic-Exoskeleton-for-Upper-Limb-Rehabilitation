{
 "cells": [
  {
   "cell_type": "markdown",
   "metadata": {},
   "source": [
    "# Random Forest Regressor..."
   ]
  },
  {
   "cell_type": "markdown",
   "metadata": {},
   "source": [
    "### Python Library ..."
   ]
  },
  {
   "cell_type": "code",
   "execution_count": 1,
   "metadata": {},
   "outputs": [],
   "source": [
    "import pandas as pd\n",
    "import numpy as np\n",
    "from sklearn.model_selection import train_test_split\n",
    "from sklearn.preprocessing import MinMaxScaler\n",
    "import tensorflow as tf\n",
    "from tensorflow.keras.models import Sequential\n",
    "from tensorflow.keras.layers import GRU, Dense,Dropout\n",
    "from tensorflow.keras.optimizers import Adam,SGD\n",
    "from matplotlib import pyplot as plt\n",
    "from imblearn.over_sampling import SMOTE"
   ]
  },
  {
   "cell_type": "markdown",
   "metadata": {},
   "source": [
    "### Load All The Data...."
   ]
  },
  {
   "cell_type": "code",
   "execution_count": 2,
   "metadata": {},
   "outputs": [],
   "source": [
    "# Load the data\n",
    "file_path = 'All_Data.xlsx'  # Replace with your file path\n",
    "data_01 = pd.read_excel(file_path)"
   ]
  },
  {
   "cell_type": "markdown",
   "metadata": {},
   "source": [
    "### Creating Synthetic Data ...."
   ]
  },
  {
   "cell_type": "code",
   "execution_count": 3,
   "metadata": {},
   "outputs": [],
   "source": [
    "import numpy as np\n",
    "from sklearn.neighbors import NearestNeighbors\n",
    "\n",
    "# Original dataset (features only)\n",
    "# X = np.array([[1, 2], [2, 3], [3, 4], [5, 6]])\n",
    "Data = data_01.loc[:, 'Average ROM Angle':90].values \n",
    "\n",
    "# Number of synthetic samples to generate\n",
    "num_synthetic_samples = 100\n",
    "\n",
    "# Fit KNN to find nearest neighbours\n",
    "knn = NearestNeighbors(n_neighbors=2)  # Use 2 neighbours for simplicity\n",
    "knn.fit(Data)\n",
    "\n",
    "# Generate synthetic samples\n",
    "synthetic_samples = []\n",
    "for _ in range(num_synthetic_samples):\n",
    "    # Randomly pick a data point from X\n",
    "    idx = np.random.randint(0, Data.shape[0])\n",
    "    point = Data[idx]\n",
    "\n",
    "    # Find neighbours of the point\n",
    "    neighbours = knn.kneighbors([point], return_distance=False)[0]\n",
    "    \n",
    "    # Randomly choose one neighbour\n",
    "    neighbour = Data[neighbours[np.random.randint(1, len(neighbours))]]  # Skip self (idx=0)\n",
    "    \n",
    "    # Interpolate between the point and the neighbour\n",
    "    alpha = np.random.uniform(0, 1)  # Random weight for interpolation\n",
    "    synthetic_point = (point + alpha * (neighbour - point))\n",
    "    \n",
    "    synthetic_samples.append(synthetic_point)\n",
    "\n",
    "# Combine original and synthetic samples\n",
    "synthetic_samples = np.array(synthetic_samples)\n",
    "augmented_dataset = np.vstack([Data, synthetic_samples])\n",
    "\n",
    "data = pd.DataFrame(augmented_dataset)\n"
   ]
  },
  {
   "cell_type": "markdown",
   "metadata": {},
   "source": [
    "### Extract EEG features and target..."
   ]
  },
  {
   "cell_type": "code",
   "execution_count": 4,
   "metadata": {},
   "outputs": [
    {
     "name": "stdout",
     "output_type": "stream",
     "text": [
      "Max ROM Angle: 155.0, Min ROM Angle: 105.0\n"
     ]
    }
   ],
   "source": [
    "# Extract EEG features and target\n",
    "X = data.loc[:, 1:181].values  # EEG data (columns D to MI) iloc[:,3:]\n",
    "y = data.loc[:, 0].values  # Target ROM angle (column C)\n",
    "max_rom = y.max()\n",
    "min_rom = y.min()\n",
    "# Check for extreme values in target\n",
    "print(f\"Max ROM Angle: {max_rom}, Min ROM Angle: {min_rom}\")\n",
    "\n",
    "# Normalise the target variable\n",
    "y = (y - min_rom) / (max_rom - min_rom)\n"
   ]
  },
  {
   "cell_type": "markdown",
   "metadata": {},
   "source": [
    "### Normalise the features..."
   ]
  },
  {
   "cell_type": "code",
   "execution_count": 5,
   "metadata": {},
   "outputs": [],
   "source": [
    "# Normalise the features\n",
    "scaler = MinMaxScaler()\n",
    "X_normalised = scaler.fit_transform(X)\n",
    "\n",
    "# Reshape X for GRU (samples, timesteps, features)\n",
    "n_features = X_normalised.shape[1]\n",
    "X_reshaped = X_normalised.reshape(X_normalised.shape[0], 1, n_features)"
   ]
  },
  {
   "cell_type": "code",
   "execution_count": 6,
   "metadata": {},
   "outputs": [
    {
     "data": {
      "text/plain": [
       "(127, 1, 181)"
      ]
     },
     "execution_count": 6,
     "metadata": {},
     "output_type": "execute_result"
    }
   ],
   "source": [
    "X_reshaped.shape"
   ]
  },
  {
   "cell_type": "code",
   "execution_count": 7,
   "metadata": {},
   "outputs": [
    {
     "name": "stdout",
     "output_type": "stream",
     "text": [
      "(127, 181)\n"
     ]
    }
   ],
   "source": [
    "reshaped_array = X_reshaped.squeeze(axis=1)  # Remove the second dimension\n",
    "print(reshaped_array.shape)\n"
   ]
  },
  {
   "cell_type": "code",
   "execution_count": null,
   "metadata": {},
   "outputs": [],
   "source": []
  },
  {
   "cell_type": "markdown",
   "metadata": {},
   "source": [
    "### Split data into training and testing sets ..."
   ]
  },
  {
   "cell_type": "code",
   "execution_count": 8,
   "metadata": {},
   "outputs": [],
   "source": [
    "# Split data into training and testing sets\n",
    "X_train, X_test, y_train, y_test = train_test_split(X_reshaped, y, test_size=0.1, random_state= 4)"
   ]
  },
  {
   "cell_type": "code",
   "execution_count": 9,
   "metadata": {},
   "outputs": [
    {
     "data": {
      "text/plain": [
       "(13, 1, 181)"
      ]
     },
     "execution_count": 9,
     "metadata": {},
     "output_type": "execute_result"
    }
   ],
   "source": [
    "X_test.shape"
   ]
  },
  {
   "cell_type": "code",
   "execution_count": 10,
   "metadata": {},
   "outputs": [
    {
     "name": "stdout",
     "output_type": "stream",
     "text": [
      "[[0.29721114 0.5397973  0.54256638 ... 0.         0.         0.        ]\n",
      " [0.34401183 0.03094984 0.         ... 0.07936508 0.07277167 0.02661783]\n",
      " [0.8336619  0.80576307 0.82462892 ... 0.         0.         0.        ]\n",
      " ...\n",
      " [0.89635201 0.95291565 0.99539845 ... 0.         0.         0.        ]\n",
      " [0.51975886 0.55804037 0.52439283 ... 0.11885717 0.11762282 0.12261164]\n",
      " [0.265252   0.19260634 0.16826609 ... 0.         0.         0.        ]]\n"
     ]
    }
   ],
   "source": [
    "import numpy as np\n",
    "\n",
    "# Reshape to 2D\n",
    "X_X = X_train.squeeze(axis=1)\n",
    "X_Xtest = X_test.squeeze(axis=1)\n",
    "\n",
    "print(X_X)"
   ]
  },
  {
   "cell_type": "markdown",
   "metadata": {},
   "source": [
    "### SVR Model.."
   ]
  },
  {
   "cell_type": "code",
   "execution_count": 16,
   "metadata": {},
   "outputs": [],
   "source": [
    "from sklearn.svm import SVR\n",
    "\n",
    "model = SVR(kernel='rbf', C=1.0, epsilon=0.1)\n",
    "model.fit(X_X, y_train)\n",
    "predictions_svr = model.predict(X_Xtest)\n"
   ]
  },
  {
   "cell_type": "markdown",
   "metadata": {},
   "source": [
    "### Final R2 Score..."
   ]
  },
  {
   "cell_type": "code",
   "execution_count": 21,
   "metadata": {},
   "outputs": [
    {
     "name": "stdout",
     "output_type": "stream",
     "text": [
      "R2 score: 69.505714%\n",
      "MAE : 0.077115\n",
      "MSE : 0.007842\n"
     ]
    }
   ],
   "source": [
    "from sklearn.metrics import r2_score\n",
    "from sklearn.metrics import mean_squared_error, mean_absolute_error\n",
    "\n",
    "# Make predictions\n",
    "predictions_svr = model.predict(X_Xtest)\n",
    "\n",
    "r2 = r2_score(y_test,predictions_svr)\n",
    "mae = mean_absolute_error(y_test,predictions_svr)\n",
    "mse = mean_squared_error(y_test,predictions_svr)\n",
    "\n",
    "print(f'R2 score: {r2*100:2f}%')\n",
    "print(f'MAE : {mae:5f}')\n",
    "print(f'MSE : {mse:5f}')"
   ]
  },
  {
   "cell_type": "markdown",
   "metadata": {},
   "source": [
    "### Invers The Metrix..."
   ]
  },
  {
   "cell_type": "code",
   "execution_count": 25,
   "metadata": {},
   "outputs": [],
   "source": [
    "# Function for invers metrixes...\n",
    "def invers_prediction(predic):\n",
    "    prz = predic\n",
    "    Predictions = []\n",
    "    for i in range(prz.shape[0]):\n",
    "        pred = prz[i]*(max_rom-min_rom) + min_rom\n",
    "        Predictions.append(pred)\n",
    "\n",
    "    return Predictions\n"
   ]
  },
  {
   "cell_type": "code",
   "execution_count": 27,
   "metadata": {},
   "outputs": [],
   "source": [
    "inv_predicted = invers_prediction(predictions_svr)\n",
    "# prediction_list = [float(arr[0]) for arr in inv_predicted] \n",
    "# predicteded_list = [[value] for value in prediction_list]\n",
    "# prediction_list\n",
    "inver_y_test = invers_prediction(y_test)\n"
   ]
  },
  {
   "cell_type": "markdown",
   "metadata": {},
   "source": [
    "### R2 Score for Invers metrixes..."
   ]
  },
  {
   "cell_type": "code",
   "execution_count": 31,
   "metadata": {},
   "outputs": [
    {
     "name": "stdout",
     "output_type": "stream",
     "text": [
      "R2 score: 69.505714%\n",
      "MAE : 3.855726\n",
      "MSE : 19.605668\n"
     ]
    }
   ],
   "source": [
    "r2 = r2_score(inver_y_test,inv_predicted)\n",
    "mae = mean_absolute_error(inver_y_test,inv_predicted)\n",
    "mse = mean_squared_error(inver_y_test,inv_predicted)\n",
    "\n",
    "print(f'R2 score: {r2*100:2f}%')\n",
    "print(f'MAE : {mae:5f}')\n",
    "print(f'MSE : {mse:5f}')"
   ]
  },
  {
   "cell_type": "code",
   "execution_count": 32,
   "metadata": {},
   "outputs": [
    {
     "data": {
      "text/html": [
       "<div>\n",
       "<style scoped>\n",
       "    .dataframe tbody tr th:only-of-type {\n",
       "        vertical-align: middle;\n",
       "    }\n",
       "\n",
       "    .dataframe tbody tr th {\n",
       "        vertical-align: top;\n",
       "    }\n",
       "\n",
       "    .dataframe thead th {\n",
       "        text-align: right;\n",
       "    }\n",
       "</style>\n",
       "<table border=\"1\" class=\"dataframe\">\n",
       "  <thead>\n",
       "    <tr style=\"text-align: right;\">\n",
       "      <th></th>\n",
       "      <th>0</th>\n",
       "      <th>1</th>\n",
       "      <th>2</th>\n",
       "      <th>3</th>\n",
       "      <th>4</th>\n",
       "      <th>5</th>\n",
       "      <th>6</th>\n",
       "      <th>7</th>\n",
       "      <th>8</th>\n",
       "      <th>9</th>\n",
       "      <th>10</th>\n",
       "      <th>11</th>\n",
       "      <th>12</th>\n",
       "    </tr>\n",
       "  </thead>\n",
       "  <tbody>\n",
       "    <tr>\n",
       "      <th>y-test</th>\n",
       "      <td>127.737941</td>\n",
       "      <td>134.600000</td>\n",
       "      <td>146.660000</td>\n",
       "      <td>131.700000</td>\n",
       "      <td>136.940497</td>\n",
       "      <td>135.000000</td>\n",
       "      <td>140.637596</td>\n",
       "      <td>135.600000</td>\n",
       "      <td>131.138443</td>\n",
       "      <td>121.6000</td>\n",
       "      <td>141.088760</td>\n",
       "      <td>124.584759</td>\n",
       "      <td>116.724355</td>\n",
       "    </tr>\n",
       "    <tr>\n",
       "      <th>prd</th>\n",
       "      <td>123.638908</td>\n",
       "      <td>134.317671</td>\n",
       "      <td>142.143379</td>\n",
       "      <td>138.705222</td>\n",
       "      <td>140.201370</td>\n",
       "      <td>128.344081</td>\n",
       "      <td>141.315602</td>\n",
       "      <td>131.205863</td>\n",
       "      <td>129.882109</td>\n",
       "      <td>127.8635</td>\n",
       "      <td>135.962871</td>\n",
       "      <td>122.878951</td>\n",
       "      <td>121.605125</td>\n",
       "    </tr>\n",
       "  </tbody>\n",
       "</table>\n",
       "</div>"
      ],
      "text/plain": [
       "                0           1           2           3           4   \\\n",
       "y-test  127.737941  134.600000  146.660000  131.700000  136.940497   \n",
       "prd     123.638908  134.317671  142.143379  138.705222  140.201370   \n",
       "\n",
       "                5           6           7           8         9           10  \\\n",
       "y-test  135.000000  140.637596  135.600000  131.138443  121.6000  141.088760   \n",
       "prd     128.344081  141.315602  131.205863  129.882109  127.8635  135.962871   \n",
       "\n",
       "                11          12  \n",
       "y-test  124.584759  116.724355  \n",
       "prd     122.878951  121.605125  "
      ]
     },
     "execution_count": 32,
     "metadata": {},
     "output_type": "execute_result"
    }
   ],
   "source": [
    "pd_result_table = pd.DataFrame(data = [inver_y_test,inv_predicted], index = [\"y-test\",\"prd\"])\n",
    "pd_result_table"
   ]
  }
 ],
 "metadata": {
  "kernelspec": {
   "display_name": "Python 3.9.5 64-bit",
   "language": "python",
   "name": "python3"
  },
  "language_info": {
   "codemirror_mode": {
    "name": "ipython",
    "version": 3
   },
   "file_extension": ".py",
   "mimetype": "text/x-python",
   "name": "python",
   "nbconvert_exporter": "python",
   "pygments_lexer": "ipython3",
   "version": "3.9.5"
  },
  "orig_nbformat": 4,
  "vscode": {
   "interpreter": {
    "hash": "f6246b25e200e4c5124e3e61789ac81350562f0761bbcf92ad9e48654207659c"
   }
  }
 },
 "nbformat": 4,
 "nbformat_minor": 2
}
