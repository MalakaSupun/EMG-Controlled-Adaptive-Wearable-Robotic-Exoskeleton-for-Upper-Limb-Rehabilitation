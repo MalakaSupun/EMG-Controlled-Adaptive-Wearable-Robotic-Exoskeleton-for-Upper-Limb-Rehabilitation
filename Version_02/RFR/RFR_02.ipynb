{
 "cells": [
  {
   "cell_type": "markdown",
   "metadata": {},
   "source": [
    "# Random Forest Regressor..."
   ]
  },
  {
   "cell_type": "markdown",
   "metadata": {},
   "source": [
    "### Python Library ..."
   ]
  },
  {
   "cell_type": "code",
   "execution_count": 2,
   "metadata": {},
   "outputs": [],
   "source": [
    "import pandas as pd\n",
    "import numpy as np\n",
    "from sklearn.model_selection import train_test_split\n",
    "from sklearn.preprocessing import MinMaxScaler\n",
    "import tensorflow as tf\n",
    "from tensorflow.keras.models import Sequential\n",
    "from tensorflow.keras.layers import GRU, Dense,Dropout\n",
    "from tensorflow.keras.optimizers import Adam,SGD\n",
    "from matplotlib import pyplot as plt\n"
   ]
  },
  {
   "cell_type": "markdown",
   "metadata": {},
   "source": [
    "### Load All The Data...."
   ]
  },
  {
   "cell_type": "code",
   "execution_count": 3,
   "metadata": {},
   "outputs": [],
   "source": [
    "# Load the data\n",
    "file_path = '../New_Data/Final_Dataset.xlsx'  # Replace with your file path\n",
    "data_01 = pd.read_excel(file_path)"
   ]
  },
  {
   "cell_type": "markdown",
   "metadata": {},
   "source": [
    "### Creating Synthetic Data ...."
   ]
  },
  {
   "cell_type": "code",
   "execution_count": 4,
   "metadata": {},
   "outputs": [],
   "source": [
    "import numpy as np\n",
    "from sklearn.neighbors import NearestNeighbors\n",
    "from tsaug import AddNoise, TimeWarp, Drift\n",
    "\n",
    "# Original dataset (features only)\n",
    "Data = data_01.loc[:, 'ROM_angle':90].values \n",
    "\n",
    "# Number of synthetic samples to generate\n",
    "num_synthetic_samples = 20\n",
    "\n",
    "# Extract Min and Max ROM angle from the original data\n",
    "rom_angle_min = Data[:, 0].min()\n",
    "rom_angle_max = Data[:, 0].max()\n",
    "\n",
    "# Function to constrain ROM angle within original Min and Max range\n",
    "def constrain_rom_angle(augmented_sample, rom_angle_min, rom_angle_max):\n",
    "    augmented_sample[:, 0] = np.clip(augmented_sample[:, 0], rom_angle_min, rom_angle_max)\n",
    "    return augmented_sample\n",
    "\n",
    "# Augmentation pipeline\n",
    "augmenter = (\n",
    "    TimeWarp(n_speed_change=1, max_speed_ratio=1.2) +\n",
    "    AddNoise(scale=0.005) +\n",
    "    Drift(max_drift=0.01, n_drift_points=2)\n",
    ")\n",
    "# Generate synthetic samples\n",
    "synthetic_samples = []\n",
    "for _ in range(num_synthetic_samples):\n",
    "    sampled_rows = Data[np.random.choice(Data.shape[0], size=1, replace=False)]\n",
    "    augmented_sample = augmenter.augment(sampled_rows)\n",
    "    augmented_sample = constrain_rom_angle(augmented_sample, rom_angle_min, rom_angle_max)\n",
    "    synthetic_samples.append(augmented_sample)\n",
    "\n",
    "# Combine original and synthetic samples\n",
    "synthetic_samples = np.vstack(synthetic_samples)\n",
    "augmented_dataset = np.vstack([Data, synthetic_samples])\n",
    "\n",
    "data = pd.DataFrame(augmented_dataset)\n",
    "data.head()\n"
   ]
  },
  {
   "cell_type": "markdown",
   "metadata": {},
   "source": [
    "### Extract EEG features and target..."
   ]
  },
  {
   "cell_type": "code",
   "execution_count": 6,
   "metadata": {},
   "outputs": [
    {
     "name": "stdout",
     "output_type": "stream",
     "text": [
      "Max ROM Angle: 155.0, Min ROM Angle: 105.0\n"
     ]
    }
   ],
   "source": [
    "# Extract EEG features and target\n",
    "X = data.loc[:, 1:181].values  # EEG data (columns D to MI) iloc[:,3:]\n",
    "y = data.loc[:, 0].values  # Target ROM angle (column C)\n",
    "max_rom = y.max()\n",
    "min_rom = y.min()\n",
    "# Check for extreme values in target\n",
    "print(f\"Max ROM Angle: {max_rom}, Min ROM Angle: {min_rom}\")\n",
    "\n",
    "# Normalise the target variable\n",
    "y = (y - min_rom) / (max_rom - min_rom)\n"
   ]
  },
  {
   "cell_type": "markdown",
   "metadata": {},
   "source": [
    "### Normalise the features..."
   ]
  },
  {
   "cell_type": "code",
   "execution_count": 7,
   "metadata": {},
   "outputs": [],
   "source": [
    "# Normalise the features\n",
    "scaler = MinMaxScaler()\n",
    "X_normalised = scaler.fit_transform(X)\n",
    "\n",
    "# Reshape X for GRU (samples, timesteps, features)\n",
    "n_features = X_normalised.shape[1]\n",
    "X_reshaped = X_normalised.reshape(X_normalised.shape[0], 1, n_features)"
   ]
  },
  {
   "cell_type": "code",
   "execution_count": 8,
   "metadata": {},
   "outputs": [
    {
     "name": "stdout",
     "output_type": "stream",
     "text": [
      "(127, 181)\n"
     ]
    }
   ],
   "source": [
    "reshaped_array = X_reshaped.squeeze(axis=1)  # Remove the second dimension\n",
    "print(reshaped_array.shape)"
   ]
  },
  {
   "cell_type": "markdown",
   "metadata": {},
   "source": [
    "### Split data into training and testing sets ..."
   ]
  },
  {
   "cell_type": "code",
   "execution_count": 9,
   "metadata": {},
   "outputs": [],
   "source": [
    "# Split data into training and testing sets\n",
    "X_train, X_test, y_train, y_test = train_test_split(X_reshaped, y, test_size=0.1, random_state= 4)"
   ]
  },
  {
   "cell_type": "code",
   "execution_count": 10,
   "metadata": {},
   "outputs": [
    {
     "name": "stdout",
     "output_type": "stream",
     "text": [
      "[[0.41946039 0.18590014 0.09169899 ... 0.12009779 0.11756412 0.0798004 ]\n",
      " [0.34401183 0.03094984 0.         ... 0.07936508 0.07277167 0.02661783]\n",
      " [0.8336619  0.80576307 0.82462892 ... 0.         0.         0.        ]\n",
      " ...\n",
      " [0.24172439 0.17503396 0.1543082  ... 0.         0.         0.        ]\n",
      " [0.25769353 0.19840308 0.17693137 ... 0.         0.         0.        ]\n",
      " [0.94502428 0.97502609 0.9975593  ... 0.         0.         0.        ]]\n"
     ]
    }
   ],
   "source": [
    "import numpy as np\n",
    "\n",
    "# Reshape to 2D\n",
    "X_X = X_train.squeeze(axis=1)\n",
    "X_Xtest = X_test.squeeze(axis=1)\n",
    "\n",
    "print(X_X)"
   ]
  },
  {
   "cell_type": "markdown",
   "metadata": {},
   "source": [
    "### Random Forest Regressor Model..."
   ]
  },
  {
   "cell_type": "code",
   "execution_count": 11,
   "metadata": {},
   "outputs": [],
   "source": [
    "from sklearn.ensemble import RandomForestRegressor\n",
    "\n",
    "model = RandomForestRegressor(n_estimators=100, random_state=42)\n",
    "model.fit(X_X, y_train)\n",
    "predictions_RF = model.predict(X_Xtest)\n"
   ]
  },
  {
   "cell_type": "markdown",
   "metadata": {},
   "source": [
    "### Final R2 Score..."
   ]
  },
  {
   "cell_type": "code",
   "execution_count": 12,
   "metadata": {},
   "outputs": [
    {
     "name": "stdout",
     "output_type": "stream",
     "text": [
      "R2 score: 84.904517%\n",
      "MAE : 0.041336\n",
      "MSE : 0.004254\n"
     ]
    }
   ],
   "source": [
    "from sklearn.metrics import r2_score\n",
    "from sklearn.metrics import mean_squared_error, mean_absolute_error\n",
    "\n",
    "# Make predictions\n",
    "predictions_RF = model.predict(X_Xtest)\n",
    "\n",
    "r2 = r2_score(y_test,predictions_RF)\n",
    "mae = mean_absolute_error(y_test,predictions_RF)\n",
    "mse = mean_squared_error(y_test,predictions_RF)\n",
    "\n",
    "print(f'R2 score: {r2*100:2f}%')\n",
    "print(f'MAE : {mae:5f}')\n",
    "print(f'MSE : {mse:5f}')"
   ]
  },
  {
   "cell_type": "markdown",
   "metadata": {},
   "source": [
    "### Invers The Metrix..."
   ]
  },
  {
   "cell_type": "code",
   "execution_count": 13,
   "metadata": {},
   "outputs": [],
   "source": [
    "# Function for invers metrixes...\n",
    "def invers_prediction(predic):\n",
    "    prz = predic\n",
    "    Predictions = []\n",
    "    for i in range(prz.shape[0]):\n",
    "        pred = prz[i]*(max_rom-min_rom) + min_rom\n",
    "        Predictions.append(pred)\n",
    "\n",
    "    return Predictions\n"
   ]
  },
  {
   "cell_type": "code",
   "execution_count": 14,
   "metadata": {},
   "outputs": [],
   "source": [
    "inv_predicted = invers_prediction(predictions_RF)\n",
    "inver_y_test = invers_prediction(y_test)\n"
   ]
  },
  {
   "cell_type": "markdown",
   "metadata": {},
   "source": [
    "### R2 Score for Invers metrixes..."
   ]
  },
  {
   "cell_type": "code",
   "execution_count": 16,
   "metadata": {},
   "outputs": [
    {
     "name": "stdout",
     "output_type": "stream",
     "text": [
      "R2 score: 84.904517%\n",
      "MAE : 2.066800\n",
      "MSE : 10.635661\n"
     ]
    }
   ],
   "source": [
    "r2 = r2_score(inver_y_test,inv_predicted)\n",
    "mae = mean_absolute_error(inver_y_test,inv_predicted)\n",
    "mse = mean_squared_error(inver_y_test,inv_predicted)\n",
    "\n",
    "print(f'R2 score: {r2*100:2f}%')\n",
    "print(f'MAE : {mae:5f}')\n",
    "print(f'MSE : {mse:5f}')"
   ]
  },
  {
   "cell_type": "code",
   "execution_count": 18,
   "metadata": {},
   "outputs": [
    {
     "data": {
      "text/html": [
       "<div>\n",
       "<style scoped>\n",
       "    .dataframe tbody tr th:only-of-type {\n",
       "        vertical-align: middle;\n",
       "    }\n",
       "\n",
       "    .dataframe tbody tr th {\n",
       "        vertical-align: top;\n",
       "    }\n",
       "\n",
       "    .dataframe thead th {\n",
       "        text-align: right;\n",
       "    }\n",
       "</style>\n",
       "<table border=\"1\" class=\"dataframe\">\n",
       "  <thead>\n",
       "    <tr style=\"text-align: right;\">\n",
       "      <th></th>\n",
       "      <th>0</th>\n",
       "      <th>1</th>\n",
       "      <th>2</th>\n",
       "      <th>3</th>\n",
       "      <th>4</th>\n",
       "      <th>5</th>\n",
       "      <th>6</th>\n",
       "      <th>7</th>\n",
       "      <th>8</th>\n",
       "      <th>9</th>\n",
       "      <th>10</th>\n",
       "      <th>11</th>\n",
       "      <th>12</th>\n",
       "    </tr>\n",
       "  </thead>\n",
       "  <tbody>\n",
       "    <tr>\n",
       "      <th>y-test</th>\n",
       "      <td>138.183863</td>\n",
       "      <td>134.600000</td>\n",
       "      <td>146.660000</td>\n",
       "      <td>131.700000</td>\n",
       "      <td>126.275448</td>\n",
       "      <td>135.000000</td>\n",
       "      <td>130.540507</td>\n",
       "      <td>135.600000</td>\n",
       "      <td>138.932421</td>\n",
       "      <td>121.600000</td>\n",
       "      <td>112.532475</td>\n",
       "      <td>131.340217</td>\n",
       "      <td>140.208569</td>\n",
       "    </tr>\n",
       "    <tr>\n",
       "      <th>prd</th>\n",
       "      <td>138.079038</td>\n",
       "      <td>134.144899</td>\n",
       "      <td>139.258933</td>\n",
       "      <td>138.206803</td>\n",
       "      <td>126.540125</td>\n",
       "      <td>130.788035</td>\n",
       "      <td>129.849324</td>\n",
       "      <td>135.533127</td>\n",
       "      <td>139.017755</td>\n",
       "      <td>125.547822</td>\n",
       "      <td>112.614609</td>\n",
       "      <td>133.957734</td>\n",
       "      <td>139.775473</td>\n",
       "    </tr>\n",
       "  </tbody>\n",
       "</table>\n",
       "</div>"
      ],
      "text/plain": [
       "                0           1           2           3           4   \\\n",
       "y-test  138.183863  134.600000  146.660000  131.700000  126.275448   \n",
       "prd     138.079038  134.144899  139.258933  138.206803  126.540125   \n",
       "\n",
       "                5           6           7           8           9   \\\n",
       "y-test  135.000000  130.540507  135.600000  138.932421  121.600000   \n",
       "prd     130.788035  129.849324  135.533127  139.017755  125.547822   \n",
       "\n",
       "                10          11          12  \n",
       "y-test  112.532475  131.340217  140.208569  \n",
       "prd     112.614609  133.957734  139.775473  "
      ]
     },
     "execution_count": 18,
     "metadata": {},
     "output_type": "execute_result"
    }
   ],
   "source": [
    "pd_result_table = pd.DataFrame(data = [inver_y_test,inv_predicted], index = [\"y-test\",\"prd\"])\n",
    "pd_result_table"
   ]
  }
 ],
 "metadata": {
  "kernelspec": {
   "display_name": "Image_processing_01",
   "language": "python",
   "name": "python3"
  },
  "language_info": {
   "codemirror_mode": {
    "name": "ipython",
    "version": 3
   },
   "file_extension": ".py",
   "mimetype": "text/x-python",
   "name": "python",
   "nbconvert_exporter": "python",
   "pygments_lexer": "ipython3",
   "version": "3.12.3"
  },
  "orig_nbformat": 4
 },
 "nbformat": 4,
 "nbformat_minor": 2
}
