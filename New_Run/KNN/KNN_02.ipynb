{
 "cells": [
  {
   "cell_type": "markdown",
   "metadata": {},
   "source": [
    "# KNN"
   ]
  },
  {
   "cell_type": "markdown",
   "metadata": {},
   "source": [
    "### Python Library ..."
   ]
  },
  {
   "cell_type": "code",
   "execution_count": 2,
   "metadata": {},
   "outputs": [],
   "source": [
    "import pandas as pd\n",
    "import numpy as np\n",
    "from sklearn.model_selection import train_test_split\n",
    "from sklearn.preprocessing import MinMaxScaler\n",
    "import tensorflow as tf\n",
    "from tensorflow.keras.models import Sequential\n",
    "from tensorflow.keras.layers import GRU, Dense,Dropout\n",
    "from tensorflow.keras.optimizers import Adam,SGD\n",
    "from matplotlib import pyplot as plt\n"
   ]
  },
  {
   "cell_type": "markdown",
   "metadata": {},
   "source": [
    "### Load All The Data...."
   ]
  },
  {
   "cell_type": "code",
   "execution_count": 11,
   "metadata": {},
   "outputs": [],
   "source": [
    "# Load the data\n",
    "file_path = '../New_Data/Final_Dataset.xlsx'  # Replace with your file path\n",
    "data_01 = pd.read_excel(file_path)"
   ]
  },
  {
   "cell_type": "markdown",
   "metadata": {},
   "source": [
    "### Creating Synthetic Data ...."
   ]
  },
  {
   "cell_type": "code",
   "execution_count": 36,
   "metadata": {},
   "outputs": [
    {
     "data": {
      "text/html": [
       "<div>\n",
       "<style scoped>\n",
       "    .dataframe tbody tr th:only-of-type {\n",
       "        vertical-align: middle;\n",
       "    }\n",
       "\n",
       "    .dataframe tbody tr th {\n",
       "        vertical-align: top;\n",
       "    }\n",
       "\n",
       "    .dataframe thead th {\n",
       "        text-align: right;\n",
       "    }\n",
       "</style>\n",
       "<table border=\"1\" class=\"dataframe\">\n",
       "  <thead>\n",
       "    <tr style=\"text-align: right;\">\n",
       "      <th></th>\n",
       "      <th>0</th>\n",
       "      <th>1</th>\n",
       "      <th>2</th>\n",
       "      <th>3</th>\n",
       "      <th>4</th>\n",
       "      <th>5</th>\n",
       "      <th>6</th>\n",
       "      <th>7</th>\n",
       "      <th>8</th>\n",
       "      <th>9</th>\n",
       "      <th>...</th>\n",
       "      <th>172</th>\n",
       "      <th>173</th>\n",
       "      <th>174</th>\n",
       "      <th>175</th>\n",
       "      <th>176</th>\n",
       "      <th>177</th>\n",
       "      <th>178</th>\n",
       "      <th>179</th>\n",
       "      <th>180</th>\n",
       "      <th>181</th>\n",
       "    </tr>\n",
       "  </thead>\n",
       "  <tbody>\n",
       "    <tr>\n",
       "      <th>0</th>\n",
       "      <td>74.0</td>\n",
       "      <td>310.000000</td>\n",
       "      <td>437.034965</td>\n",
       "      <td>518.473193</td>\n",
       "      <td>562.940559</td>\n",
       "      <td>579.062937</td>\n",
       "      <td>575.466200</td>\n",
       "      <td>562.794872</td>\n",
       "      <td>552.722611</td>\n",
       "      <td>548.293706</td>\n",
       "      <td>...</td>\n",
       "      <td>0.0</td>\n",
       "      <td>0.0</td>\n",
       "      <td>0.0</td>\n",
       "      <td>0.0</td>\n",
       "      <td>0.0</td>\n",
       "      <td>0.0</td>\n",
       "      <td>0.0</td>\n",
       "      <td>0.0</td>\n",
       "      <td>0.0</td>\n",
       "      <td>0.0</td>\n",
       "    </tr>\n",
       "    <tr>\n",
       "      <th>1</th>\n",
       "      <td>150.0</td>\n",
       "      <td>1371.293706</td>\n",
       "      <td>1259.902098</td>\n",
       "      <td>1244.452214</td>\n",
       "      <td>1302.843823</td>\n",
       "      <td>1412.976690</td>\n",
       "      <td>1552.750583</td>\n",
       "      <td>1676.762238</td>\n",
       "      <td>1789.277389</td>\n",
       "      <td>1886.198135</td>\n",
       "      <td>...</td>\n",
       "      <td>0.0</td>\n",
       "      <td>0.0</td>\n",
       "      <td>0.0</td>\n",
       "      <td>0.0</td>\n",
       "      <td>0.0</td>\n",
       "      <td>0.0</td>\n",
       "      <td>0.0</td>\n",
       "      <td>0.0</td>\n",
       "      <td>0.0</td>\n",
       "      <td>0.0</td>\n",
       "    </tr>\n",
       "    <tr>\n",
       "      <th>2</th>\n",
       "      <td>157.0</td>\n",
       "      <td>1842.937063</td>\n",
       "      <td>1915.902098</td>\n",
       "      <td>1990.107226</td>\n",
       "      <td>2060.264569</td>\n",
       "      <td>2121.086247</td>\n",
       "      <td>2167.284382</td>\n",
       "      <td>2189.783217</td>\n",
       "      <td>2182.948718</td>\n",
       "      <td>2142.102564</td>\n",
       "      <td>...</td>\n",
       "      <td>0.0</td>\n",
       "      <td>0.0</td>\n",
       "      <td>0.0</td>\n",
       "      <td>0.0</td>\n",
       "      <td>0.0</td>\n",
       "      <td>0.0</td>\n",
       "      <td>0.0</td>\n",
       "      <td>0.0</td>\n",
       "      <td>0.0</td>\n",
       "      <td>0.0</td>\n",
       "    </tr>\n",
       "    <tr>\n",
       "      <th>3</th>\n",
       "      <td>155.0</td>\n",
       "      <td>1605.195804</td>\n",
       "      <td>1746.097902</td>\n",
       "      <td>1851.216783</td>\n",
       "      <td>1925.229604</td>\n",
       "      <td>1972.813520</td>\n",
       "      <td>1998.645688</td>\n",
       "      <td>2017.405594</td>\n",
       "      <td>2005.682984</td>\n",
       "      <td>1985.494172</td>\n",
       "      <td>...</td>\n",
       "      <td>0.0</td>\n",
       "      <td>0.0</td>\n",
       "      <td>0.0</td>\n",
       "      <td>0.0</td>\n",
       "      <td>0.0</td>\n",
       "      <td>0.0</td>\n",
       "      <td>0.0</td>\n",
       "      <td>0.0</td>\n",
       "      <td>0.0</td>\n",
       "      <td>0.0</td>\n",
       "    </tr>\n",
       "    <tr>\n",
       "      <th>4</th>\n",
       "      <td>160.0</td>\n",
       "      <td>2072.496503</td>\n",
       "      <td>2132.825175</td>\n",
       "      <td>2151.382284</td>\n",
       "      <td>2141.973193</td>\n",
       "      <td>2118.403263</td>\n",
       "      <td>2094.477855</td>\n",
       "      <td>2103.848485</td>\n",
       "      <td>2135.745921</td>\n",
       "      <td>2196.694639</td>\n",
       "      <td>...</td>\n",
       "      <td>0.0</td>\n",
       "      <td>0.0</td>\n",
       "      <td>0.0</td>\n",
       "      <td>0.0</td>\n",
       "      <td>0.0</td>\n",
       "      <td>0.0</td>\n",
       "      <td>0.0</td>\n",
       "      <td>0.0</td>\n",
       "      <td>0.0</td>\n",
       "      <td>0.0</td>\n",
       "    </tr>\n",
       "  </tbody>\n",
       "</table>\n",
       "<p>5 rows × 182 columns</p>\n",
       "</div>"
      ],
      "text/plain": [
       "     0            1            2            3            4            5    \\\n",
       "0   74.0   310.000000   437.034965   518.473193   562.940559   579.062937   \n",
       "1  150.0  1371.293706  1259.902098  1244.452214  1302.843823  1412.976690   \n",
       "2  157.0  1842.937063  1915.902098  1990.107226  2060.264569  2121.086247   \n",
       "3  155.0  1605.195804  1746.097902  1851.216783  1925.229604  1972.813520   \n",
       "4  160.0  2072.496503  2132.825175  2151.382284  2141.973193  2118.403263   \n",
       "\n",
       "           6            7            8            9    ...  172  173  174  \\\n",
       "0   575.466200   562.794872   552.722611   548.293706  ...  0.0  0.0  0.0   \n",
       "1  1552.750583  1676.762238  1789.277389  1886.198135  ...  0.0  0.0  0.0   \n",
       "2  2167.284382  2189.783217  2182.948718  2142.102564  ...  0.0  0.0  0.0   \n",
       "3  1998.645688  2017.405594  2005.682984  1985.494172  ...  0.0  0.0  0.0   \n",
       "4  2094.477855  2103.848485  2135.745921  2196.694639  ...  0.0  0.0  0.0   \n",
       "\n",
       "   175  176  177  178  179  180  181  \n",
       "0  0.0  0.0  0.0  0.0  0.0  0.0  0.0  \n",
       "1  0.0  0.0  0.0  0.0  0.0  0.0  0.0  \n",
       "2  0.0  0.0  0.0  0.0  0.0  0.0  0.0  \n",
       "3  0.0  0.0  0.0  0.0  0.0  0.0  0.0  \n",
       "4  0.0  0.0  0.0  0.0  0.0  0.0  0.0  \n",
       "\n",
       "[5 rows x 182 columns]"
      ]
     },
     "execution_count": 36,
     "metadata": {},
     "output_type": "execute_result"
    }
   ],
   "source": [
    "import numpy as np\n",
    "from sklearn.neighbors import NearestNeighbors\n",
    "from tsaug import AddNoise, TimeWarp, Drift\n",
    "\n",
    "# Original dataset (features only)\n",
    "Data = data_01.loc[:, 'ROM_angle':90].values \n",
    "\n",
    "# Number of synthetic samples to generate\n",
    "num_synthetic_samples = 20\n",
    "\n",
    "# Extract Min and Max ROM angle from the original data\n",
    "rom_angle_min = Data[:, 0].min()\n",
    "rom_angle_max = Data[:, 0].max()\n",
    "\n",
    "# Function to constrain ROM angle within original Min and Max range\n",
    "def constrain_rom_angle(augmented_sample, rom_angle_min, rom_angle_max):\n",
    "    augmented_sample[:, 0] = np.clip(augmented_sample[:, 0], rom_angle_min, rom_angle_max)\n",
    "    return augmented_sample\n",
    "\n",
    "# Augmentation pipeline\n",
    "augmenter = (\n",
    "    TimeWarp(n_speed_change=1, max_speed_ratio=1.2) +\n",
    "    AddNoise(scale=0.005) +\n",
    "    Drift(max_drift=0.01, n_drift_points=2)\n",
    ")\n",
    "# Generate synthetic samples\n",
    "synthetic_samples = []\n",
    "for _ in range(num_synthetic_samples):\n",
    "    sampled_rows = Data[np.random.choice(Data.shape[0], size=1, replace=False)]\n",
    "    augmented_sample = augmenter.augment(sampled_rows)\n",
    "    augmented_sample = constrain_rom_angle(augmented_sample, rom_angle_min, rom_angle_max)\n",
    "    synthetic_samples.append(augmented_sample)\n",
    "\n",
    "# Combine original and synthetic samples\n",
    "synthetic_samples = np.vstack(synthetic_samples)\n",
    "augmented_dataset = np.vstack([Data, synthetic_samples])\n",
    "\n",
    "data = pd.DataFrame(augmented_dataset)\n",
    "data.head()"
   ]
  },
  {
   "cell_type": "markdown",
   "metadata": {},
   "source": [
    "### Extract EEG features and target..."
   ]
  },
  {
   "cell_type": "code",
   "execution_count": 37,
   "metadata": {},
   "outputs": [
    {
     "name": "stdout",
     "output_type": "stream",
     "text": [
      "Max ROM Angle: 160.0, Min ROM Angle: 58.0\n"
     ]
    }
   ],
   "source": [
    "# Extract EEG features and target\n",
    "X = data.loc[:, 1:181].values  # EEG data (columns D to MI) iloc[:,3:]\n",
    "y = data.loc[:, 0].values  # Target ROM angle (column C)\n",
    "max_rom = y.max()\n",
    "min_rom = y.min()\n",
    "# Check for extreme values in target\n",
    "print(f\"Max ROM Angle: {max_rom}, Min ROM Angle: {min_rom}\")\n",
    "\n",
    "# Normalise the target variable\n",
    "y = (y - min_rom) / (max_rom - min_rom)\n"
   ]
  },
  {
   "cell_type": "markdown",
   "metadata": {},
   "source": [
    "### Normalise the features..."
   ]
  },
  {
   "cell_type": "code",
   "execution_count": 38,
   "metadata": {},
   "outputs": [],
   "source": [
    "# Normalise the features\n",
    "scaler = MinMaxScaler()\n",
    "X_normalised = scaler.fit_transform(X)\n",
    "\n",
    "# Reshape X for GRU (samples, timesteps, features)\n",
    "n_features = X_normalised.shape[1]\n",
    "X_reshaped = X_normalised.reshape(X_normalised.shape[0], 1, n_features)"
   ]
  },
  {
   "cell_type": "code",
   "execution_count": 39,
   "metadata": {},
   "outputs": [
    {
     "name": "stdout",
     "output_type": "stream",
     "text": [
      "(141, 181)\n"
     ]
    }
   ],
   "source": [
    "reshaped_array = X_reshaped.squeeze(axis=1)  # Remove the second dimension\n",
    "print(reshaped_array.shape)"
   ]
  },
  {
   "cell_type": "markdown",
   "metadata": {},
   "source": [
    "### Split data into training and testing sets ..."
   ]
  },
  {
   "cell_type": "code",
   "execution_count": 40,
   "metadata": {},
   "outputs": [],
   "source": [
    "# Split data into training and testing sets\n",
    "X_train, X_test, y_train, y_test = train_test_split(X_reshaped, y, test_size=0.1, random_state= 4)"
   ]
  },
  {
   "cell_type": "code",
   "execution_count": 41,
   "metadata": {},
   "outputs": [
    {
     "name": "stdout",
     "output_type": "stream",
     "text": [
      "[[1.00000000e+00 9.39116529e-01 8.83633845e-01 ... 6.53860181e-01\n",
      "  6.66383740e-01 6.83099657e-01]\n",
      " [9.40684698e-01 1.00000000e+00 9.98595138e-01 ... 1.40794801e-02\n",
      "  1.93586079e-02 2.10371033e-02]\n",
      " [4.91045829e-01 5.20422962e-01 5.42388226e-01 ... 1.40794801e-02\n",
      "  1.93586079e-02 2.10371033e-02]\n",
      " ...\n",
      " [5.89724108e-01 5.81945948e-01 5.91236259e-01 ... 1.40794801e-02\n",
      "  1.93586079e-02 2.10371033e-02]\n",
      " [5.56837563e-01 5.51343498e-01 5.52964393e-01 ... 4.55836836e-04\n",
      "  9.19606817e-03 8.51322266e-03]\n",
      " [1.13726026e-01 1.80218033e-02 1.00464572e-02 ... 1.36614046e-02\n",
      "  1.82309405e-02 2.23803991e-02]]\n"
     ]
    }
   ],
   "source": [
    "import numpy as np\n",
    "\n",
    "# Reshape to 2D\n",
    "X_X = X_train.squeeze(axis=1)\n",
    "X_Xtest = X_test.squeeze(axis=1)\n",
    "\n",
    "print(X_X)"
   ]
  },
  {
   "cell_type": "markdown",
   "metadata": {},
   "source": [
    "### KNN Model..."
   ]
  },
  {
   "cell_type": "code",
   "execution_count": 42,
   "metadata": {},
   "outputs": [],
   "source": [
    "from sklearn.neighbors import KNeighborsRegressor\n",
    "\n",
    "model = KNeighborsRegressor(n_neighbors=1)\n",
    "model.fit(X_X, y_train)\n",
    "predictions_KNN = model.predict(X_Xtest)"
   ]
  },
  {
   "cell_type": "code",
   "execution_count": 43,
   "metadata": {},
   "outputs": [
    {
     "name": "stdout",
     "output_type": "stream",
     "text": [
      "R2 score: 93.319687%\n",
      "MAE : 0.039647\n",
      "MSE : 0.002861\n"
     ]
    }
   ],
   "source": [
    "from sklearn.metrics import r2_score\n",
    "from sklearn.metrics import mean_squared_error, mean_absolute_error\n",
    "\n",
    "# Make predictions\n",
    "predictions_knn = model.predict(X_Xtest)\n",
    "\n",
    "r2 = r2_score(y_test,predictions_knn )\n",
    "mae = mean_absolute_error(y_test,predictions_knn )\n",
    "mse = mean_squared_error(y_test,predictions_knn )\n",
    "\n",
    "print(f'R2 score: {r2*100:2f}%')\n",
    "print(f'MAE : {mae:5f}')\n",
    "print(f'MSE : {mse:5f}')"
   ]
  },
  {
   "cell_type": "markdown",
   "metadata": {},
   "source": [
    "### Invers The Metrix..."
   ]
  },
  {
   "cell_type": "code",
   "execution_count": 29,
   "metadata": {},
   "outputs": [],
   "source": [
    "# Function for invers metrixes...\n",
    "def invers_prediction(predic):\n",
    "    prz = predic\n",
    "    Predictions = []\n",
    "    for i in range(prz.shape[0]):\n",
    "        pred = prz[i]*(max_rom-min_rom) + min_rom\n",
    "        Predictions.append(pred)\n",
    "\n",
    "    return Predictions\n"
   ]
  },
  {
   "cell_type": "code",
   "execution_count": 44,
   "metadata": {},
   "outputs": [],
   "source": [
    "inv_predicted = invers_prediction(predictions_knn )\n",
    "inver_y_test = invers_prediction(y_test)\n"
   ]
  },
  {
   "cell_type": "markdown",
   "metadata": {},
   "source": [
    "### R2 Score for Invers metrixes..."
   ]
  },
  {
   "cell_type": "code",
   "execution_count": 45,
   "metadata": {},
   "outputs": [
    {
     "name": "stdout",
     "output_type": "stream",
     "text": [
      "R2 score: 93.319687%\n",
      "MAE : 4.043956\n",
      "MSE : 29.763508\n"
     ]
    }
   ],
   "source": [
    "r2 = r2_score(inver_y_test,inv_predicted)\n",
    "mae = mean_absolute_error(inver_y_test,inv_predicted)\n",
    "mse = mean_squared_error(inver_y_test,inv_predicted)\n",
    "\n",
    "print(f'R2 score: {r2*100:2f}%')\n",
    "print(f'MAE : {mae:5f}')\n",
    "print(f'MSE : {mse:5f}')"
   ]
  },
  {
   "cell_type": "code",
   "execution_count": 32,
   "metadata": {},
   "outputs": [
    {
     "data": {
      "text/html": [
       "<div>\n",
       "<style scoped>\n",
       "    .dataframe tbody tr th:only-of-type {\n",
       "        vertical-align: middle;\n",
       "    }\n",
       "\n",
       "    .dataframe tbody tr th {\n",
       "        vertical-align: top;\n",
       "    }\n",
       "\n",
       "    .dataframe thead th {\n",
       "        text-align: right;\n",
       "    }\n",
       "</style>\n",
       "<table border=\"1\" class=\"dataframe\">\n",
       "  <thead>\n",
       "    <tr style=\"text-align: right;\">\n",
       "      <th></th>\n",
       "      <th>0</th>\n",
       "      <th>1</th>\n",
       "      <th>2</th>\n",
       "      <th>3</th>\n",
       "      <th>4</th>\n",
       "      <th>5</th>\n",
       "      <th>6</th>\n",
       "      <th>7</th>\n",
       "      <th>8</th>\n",
       "      <th>9</th>\n",
       "      <th>10</th>\n",
       "      <th>11</th>\n",
       "      <th>12</th>\n",
       "    </tr>\n",
       "  </thead>\n",
       "  <tbody>\n",
       "    <tr>\n",
       "      <th>y-test</th>\n",
       "      <td>58.0</td>\n",
       "      <td>157.0</td>\n",
       "      <td>116.0</td>\n",
       "      <td>64.0</td>\n",
       "      <td>126.0</td>\n",
       "      <td>150.0</td>\n",
       "      <td>149.0</td>\n",
       "      <td>98.0</td>\n",
       "      <td>160.0</td>\n",
       "      <td>96.0</td>\n",
       "      <td>160.0</td>\n",
       "      <td>158.0</td>\n",
       "      <td>100.0</td>\n",
       "    </tr>\n",
       "    <tr>\n",
       "      <th>prd</th>\n",
       "      <td>65.0</td>\n",
       "      <td>154.0</td>\n",
       "      <td>129.0</td>\n",
       "      <td>62.0</td>\n",
       "      <td>125.0</td>\n",
       "      <td>151.0</td>\n",
       "      <td>146.0</td>\n",
       "      <td>99.0</td>\n",
       "      <td>156.0</td>\n",
       "      <td>99.0</td>\n",
       "      <td>156.0</td>\n",
       "      <td>154.0</td>\n",
       "      <td>102.0</td>\n",
       "    </tr>\n",
       "  </tbody>\n",
       "</table>\n",
       "</div>"
      ],
      "text/plain": [
       "          0      1      2     3      4      5      6     7      8     9   \\\n",
       "y-test  58.0  157.0  116.0  64.0  126.0  150.0  149.0  98.0  160.0  96.0   \n",
       "prd     65.0  154.0  129.0  62.0  125.0  151.0  146.0  99.0  156.0  99.0   \n",
       "\n",
       "           10     11     12  \n",
       "y-test  160.0  158.0  100.0  \n",
       "prd     156.0  154.0  102.0  "
      ]
     },
     "execution_count": 32,
     "metadata": {},
     "output_type": "execute_result"
    }
   ],
   "source": [
    "pd_result_table = pd.DataFrame(data = [inver_y_test,inv_predicted], index = [\"y-test\",\"prd\"])\n",
    "pd_result_table"
   ]
  }
 ],
 "metadata": {
  "kernelspec": {
   "display_name": "Python 3.9.5 64-bit",
   "language": "python",
   "name": "python3"
  },
  "language_info": {
   "codemirror_mode": {
    "name": "ipython",
    "version": 3
   },
   "file_extension": ".py",
   "mimetype": "text/x-python",
   "name": "python",
   "nbconvert_exporter": "python",
   "pygments_lexer": "ipython3",
   "version": "3.9.5"
  },
  "orig_nbformat": 4,
  "vscode": {
   "interpreter": {
    "hash": "f6246b25e200e4c5124e3e61789ac81350562f0761bbcf92ad9e48654207659c"
   }
  }
 },
 "nbformat": 4,
 "nbformat_minor": 2
}
